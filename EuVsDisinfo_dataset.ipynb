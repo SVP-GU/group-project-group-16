{
 "cells": [
  {
   "cell_type": "code",
   "execution_count": 18,
   "id": "7ad7f951",
   "metadata": {},
   "outputs": [],
   "source": [
    "import time\n",
    "import pandas as pd\n",
    "from selenium import webdriver\n",
    "from selenium.webdriver.common.by import By\n",
    "from selenium.webdriver.chrome.service import Service\n",
    "from pathlib import Path\n",
    "\n",
    "import requests\n",
    "from bs4 import BeautifulSoup"
   ]
  },
  {
   "cell_type": "code",
   "execution_count": 9,
   "id": "637f773e",
   "metadata": {},
   "outputs": [],
   "source": [
    "options = webdriver.ChromeOptions()\n",
    "options.add_argument('--headless')\n",
    "service = Service()\n",
    "driver = webdriver.Chrome(service=service, options=options)"
   ]
  },
  {
   "cell_type": "code",
   "execution_count": 13,
   "id": "8d4bc659",
   "metadata": {},
   "outputs": [],
   "source": [
    "def scrape_euvsdisinfo_selenium(pages=10):\n",
    "    base_url = \"https://euvsdisinfo.eu/disinformation-cases/?sort=desc&numberposts=60\"\n",
    "    data = []\n",
    "\n",
    "    for page in range(1, pages + 1):\n",
    "        print(f\"Sida {page}\")\n",
    "        driver.get(base_url + str(page))\n",
    "        time.sleep(2.5)  # Vänta på att innehållet laddas\n",
    "\n",
    "        items = driver.find_elements(By.CLASS_NAME, \"disinfo-item\")\n",
    "\n",
    "        for item in items:\n",
    "            try:\n",
    "                disinfo = item.find_element(By.CLASS_NAME, \"disinfo-text\").text.strip()\n",
    "                correction = item.find_element(By.CLASS_NAME, \"disproof-text\").text.strip()\n",
    "                country = item.find_element(By.CLASS_NAME, \"country\").text.strip()\n",
    "                date = item.find_element(By.CLASS_NAME, \"date\").text.strip()\n",
    "\n",
    "                data.append({\n",
    "                    \"text\": disinfo,\n",
    "                    \"correction\": correction,\n",
    "                    \"country\": country,\n",
    "                    \"date\": date,\n",
    "                    \"label\": 1\n",
    "                })\n",
    "            except Exception:\n",
    "                continue\n",
    "\n",
    "    return pd.DataFrame(data)"
   ]
  },
  {
   "cell_type": "code",
   "execution_count": 16,
   "id": "bb748653",
   "metadata": {},
   "outputs": [
    {
     "name": "stdout",
     "output_type": "stream",
     "text": [
      "Sida 1\n",
      "Sida 2\n",
      "Sida 3\n",
      "Sida 4\n",
      "Sida 5\n",
      "Sida 6\n",
      "Sida 7\n",
      "Sida 8\n",
      "Sida 9\n",
      "Sida 10\n",
      "Sida 11\n",
      "Sida 12\n",
      "Hämtade 0 desinfoposter.\n"
     ]
    }
   ],
   "source": [
    "df = scrape_euvsdisinfo_selenium(pages=12)\n",
    "driver.quit()\n",
    "print(f'Hämtade {len(df)} desinfoposter.')"
   ]
  },
  {
   "cell_type": "code",
   "execution_count": 4,
   "id": "1eb4f879",
   "metadata": {},
   "outputs": [
    {
     "name": "stdout",
     "output_type": "stream",
     "text": [
      "Sparat\n"
     ]
    }
   ],
   "source": [
    "df.to_csv('euvsdisinfo.csv', index=False)\n",
    "print('Sparat')"
   ]
  },
  {
   "cell_type": "code",
   "execution_count": 11,
   "id": "6937d818",
   "metadata": {},
   "outputs": [],
   "source": [
    "def scrape_euvsdisinfo(pages=10):\n",
    "    #base_url = \"https://euvsdisinfo.eu/disinformation-cases/?text&date&per_page=60&page=\"\n",
    "    base_url = 'https://euvsdisinfo.eu/disinformation-cases/?sort=desc&numberposts=60'\n",
    "    data = []\n",
    "\n",
    "    for page in range(1, pages + 1):\n",
    "        print(f'Hämtar sida {page}')\n",
    "        url = base_url + str(page)\n",
    "        res = requests.get(url)\n",
    "        soup = BeautifulSoup(res.content, 'html.parser')\n",
    "\n",
    "        items = soup.find_all('div', class_='disinfo-item')\n",
    "\n",
    "        for item in items:\n",
    "            try:\n",
    "                disinfo = item.find('div', class_='disinfo-text').get_text(Strip=True)\n",
    "                fact = item.find(\"div\", class_=\"disproof-text\").get_text(strip=True)\n",
    "                country = item.find(\"span\", class_=\"country\").get_text(strip=True)\n",
    "                date = item.find(\"span\", class_=\"date\").get_text(strip=True)\n",
    "\n",
    "                data.append({\n",
    "                    'text': disinfo,\n",
    "                    'correction': fact,\n",
    "                    'country': country,\n",
    "                    'date': date,\n",
    "                    'label': 1\n",
    "                })\n",
    "            except AttributeError:\n",
    "                continue\n",
    "    return pd.DataFrame(data)"
   ]
  }
 ],
 "metadata": {
  "kernelspec": {
   "display_name": "base",
   "language": "python",
   "name": "python3"
  },
  "language_info": {
   "codemirror_mode": {
    "name": "ipython",
    "version": 3
   },
   "file_extension": ".py",
   "mimetype": "text/x-python",
   "name": "python",
   "nbconvert_exporter": "python",
   "pygments_lexer": "ipython3",
   "version": "3.11.7"
  }
 },
 "nbformat": 4,
 "nbformat_minor": 5
}
